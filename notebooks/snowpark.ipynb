{
 "cells": [
  {
   "cell_type": "markdown",
   "id": "cbdc5f7d-8670-4719-a781-06710a07962c",
   "metadata": {
    "tags": []
   },
   "source": [
    "# Setup"
   ]
  },
  {
   "cell_type": "code",
   "execution_count": null,
   "id": "49ca4df6-dfdb-4ac6-8cd8-0c7a3bf2ed95",
   "metadata": {},
   "outputs": [],
   "source": [
    "import ammonite.ops._\n",
    "import ammonite.ops.ImplicitWd._"
   ]
  },
  {
   "cell_type": "code",
   "execution_count": null,
   "id": "51cf341a-66cd-4704-92db-b64cacf7f330",
   "metadata": {},
   "outputs": [],
   "source": [
    "// This folder is used to store generated REPL classes, which will later be used in UDFs.\n",
    "// Please provide an empty folder path. This is essential for Snowpark UDFs to work\n",
    "val replClassPath = pwd+\"/repl_classes\"\n",
    "\n",
    "// Delete any old files in the directory.\n",
    "import sys.process._\n",
    "s\"rm -rf $replClassPath\" !\n",
    "\n",
    "// Create the REPL class folder.\n",
    "import sys.process._\n",
    "s\"mkdir -p $replClassPath\" !"
   ]
  },
  {
   "cell_type": "code",
   "execution_count": null,
   "id": "ac2690de-f6a4-4e64-a604-889a932e2ba6",
   "metadata": {},
   "outputs": [],
   "source": [
    "import $ivy.`com.snowflake:snowpark:1.4.0`\n",
    "import com.snowflake.snowpark._\n",
    "import com.snowflake.snowpark.functions._"
   ]
  },
  {
   "cell_type": "markdown",
   "id": "ba36f86d-8acc-4eb1-af81-0bf40c0f548d",
   "metadata": {},
   "source": [
    "Add the Ammonite kernel classes as dependencies for your UDF."
   ]
  },
  {
   "cell_type": "code",
   "execution_count": null,
   "id": "42d08c4a-2bca-4f46-b648-b38d2fbaa6f7",
   "metadata": {},
   "outputs": [],
   "source": [
    "def finalize_session_setup(session: Session): Unit = {\n",
    "    def addClass(session: Session, className: String): String = {\n",
    "      var cls1 = Class.forName(className)\n",
    "      val resourceName = \"/\" + cls1.getName().replace(\".\", \"/\") + \".class\"\n",
    "      val url = cls1.getResource(resourceName)\n",
    "      val path = url.getPath().split(\":\").last.split(\"!\").head\n",
    "      session.addDependency(path)\n",
    "      path\n",
    "    }\n",
    "    addClass(session, \"ammonite.repl.ReplBridge$\")\n",
    "    addClass(session, \"ammonite.interp.api.APIHolder\")\n",
    "    addClass(session, \"pprint.TPrintColors\")\n",
    "}"
   ]
  },
  {
   "cell_type": "markdown",
   "id": "cf3382b0-0187-4f9b-9efa-1c5beca052d0",
   "metadata": {},
   "source": [
    "# Code"
   ]
  },
  {
   "cell_type": "code",
   "execution_count": null,
   "id": "41d49684-889a-4ea8-96de-84172571224d",
   "metadata": {},
   "outputs": [],
   "source": [
    "val session = Session.builder.configs(Map(\n",
    "    \"URL\" -> (\"https://\" + sys.env.get(\"SNOWFLAKE_DEFAULT_ORG\").get + \".snowflakecomputing.com\"),\n",
    "    \"USER\" -> sys.env.get(\"SNOWFLAKE_USER\").get,\n",
    "    \"PASSWORD\" -> sys.env.get(\"SNOWFLAKE_PASSWORD\").get,\n",
    "    \"ROLE\" -> sys.env.get(\"SNOWFLAKE_ROLE\").get,\n",
    "    \"WAREHOUSE\" -> sys.env.get(\"SNOWFLAKE_DEFAULT_WAREHOUSE\").get,\n",
    "    \"DB\" -> sys.env.get(\"SNOWFLAKE_DEFAULT_DB\").get,\n",
    "    \"SCHEMA\" -> sys.env.get(\"SNOWFLAKE_DEFAULT_SCHEMA\").get\n",
    ")).create\n",
    "finalize_session_setup(session)"
   ]
  },
  {
   "cell_type": "code",
   "execution_count": null,
   "id": "523e80aa-ea68-4bd2-94ec-768b94e7ca24",
   "metadata": {},
   "outputs": [],
   "source": [
    "session.sql(\"show tables\").show"
   ]
  },
  {
   "cell_type": "code",
   "execution_count": null,
   "id": "7d78aaa3-7049-481a-9c63-0f2a7eccdba0",
   "metadata": {},
   "outputs": [],
   "source": [
    "session.table(\"flights\").show(5)"
   ]
  },
  {
   "cell_type": "code",
   "execution_count": null,
   "id": "25d9a768-a896-410b-9725-c0ed890ac429",
   "metadata": {},
   "outputs": [],
   "source": [
    "session.table(\"flights\").select(col(\"origin\"), col(\"dest\"), col(\"dep_time\"), col(\"arr_time\"), (col(\"dep_time\") * 2).alias(\"double_dep_time\")).show"
   ]
  },
  {
   "cell_type": "code",
   "execution_count": null,
   "id": "5973d474-fc99-423e-bb1e-4d379011df32",
   "metadata": {},
   "outputs": [],
   "source": []
  }
 ],
 "metadata": {
  "kernelspec": {
   "display_name": "Scala",
   "language": "scala",
   "name": "scala"
  },
  "language_info": {
   "codemirror_mode": "text/x-scala",
   "file_extension": ".sc",
   "mimetype": "text/x-scala",
   "name": "scala",
   "nbconvert_exporter": "script",
   "version": "2.12.11"
  }
 },
 "nbformat": 4,
 "nbformat_minor": 5
}
